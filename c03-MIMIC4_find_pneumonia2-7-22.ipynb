{
 "cells": [
  {
   "cell_type": "code",
   "execution_count": 3,
   "id": "b97060c7-6d13-4dc4-a96b-b239d17a99b0",
   "metadata": {},
   "outputs": [],
   "source": [
    "import psycopg2\n",
    "# to install from commandline: conda install -c anaconda psycopg2\n",
    "import numpy as np\n",
    "import pandas as pd\n",
    "pd.set_option('display.max_columns', None)\n"
   ]
  },
  {
   "cell_type": "code",
   "execution_count": 5,
   "id": "45b989b1-5439-4b91-8547-884c4b34db16",
   "metadata": {},
   "outputs": [],
   "source": [
    "#need to be connected to vpn\n",
    "# note, all server information is stored in a config.py file \n",
    "import config \n",
    "conn = psycopg2.connect(dbname=config.dbname, user=config.user, host=config.host, port=config.port,password=config.password)\n",
    "cur=conn.cursor()\n",
    "\n",
    "query_schema = 'SET search_path to ' + \"mimiciv\" + ';'"
   ]
  },
  {
   "cell_type": "markdown",
   "id": "f2c29c78-b7f6-4fb2-b191-8af9d3c21c14",
   "metadata": {},
   "source": [
    "How do other papers find pneumonia in MIMIC?\n",
    "\n",
    "https://www.ncbi.nlm.nih.gov/pmc/articles/PMC8280627/ - VAP in MIMIC - methods unclear\n",
    "\n",
    "https://journals.lww.com/md-journal/Fulltext/2021/06110/Predicting_ventilator_associated_pneumonia_with.36.aspx \" (ICD) Revision 9 code 997.31 was the gold standard definition of VAP.\"\n",
    "\n",
    "Where do ICD codes live? \n",
    "https://github.com/3778/icd-prediction-mimic\n",
    "https://github.com/jamesmullenbach/caml-mimic\n",
    "\n"
   ]
  },
  {
   "cell_type": "code",
   "execution_count": 8,
   "id": "f563a6ea-f6a2-4ed6-a0f1-35a3de40deb5",
   "metadata": {},
   "outputs": [
    {
     "data": {
      "text/html": [
       "<div>\n",
       "<style scoped>\n",
       "    .dataframe tbody tr th:only-of-type {\n",
       "        vertical-align: middle;\n",
       "    }\n",
       "\n",
       "    .dataframe tbody tr th {\n",
       "        vertical-align: top;\n",
       "    }\n",
       "\n",
       "    .dataframe thead th {\n",
       "        text-align: right;\n",
       "    }\n",
       "</style>\n",
       "<table border=\"1\" class=\"dataframe\">\n",
       "  <thead>\n",
       "    <tr style=\"text-align: right;\">\n",
       "      <th></th>\n",
       "      <th>subject_id</th>\n",
       "      <th>hadm_id</th>\n",
       "      <th>seq_num</th>\n",
       "      <th>icd_code</th>\n",
       "      <th>icd_version</th>\n",
       "      <th>icd_code</th>\n",
       "      <th>icd_version</th>\n",
       "      <th>long_title</th>\n",
       "    </tr>\n",
       "  </thead>\n",
       "  <tbody>\n",
       "    <tr>\n",
       "      <th>0</th>\n",
       "      <td>15734973</td>\n",
       "      <td>20475282</td>\n",
       "      <td>3</td>\n",
       "      <td>2825</td>\n",
       "      <td>9</td>\n",
       "      <td>2825</td>\n",
       "      <td>9</td>\n",
       "      <td>Sickle-cell trait</td>\n",
       "    </tr>\n",
       "    <tr>\n",
       "      <th>1</th>\n",
       "      <td>15734973</td>\n",
       "      <td>20475282</td>\n",
       "      <td>2</td>\n",
       "      <td>V0251</td>\n",
       "      <td>9</td>\n",
       "      <td>V0251</td>\n",
       "      <td>9</td>\n",
       "      <td>Carrier or suspected carrier of group B strept...</td>\n",
       "    </tr>\n",
       "    <tr>\n",
       "      <th>2</th>\n",
       "      <td>15734973</td>\n",
       "      <td>20475282</td>\n",
       "      <td>5</td>\n",
       "      <td>V270</td>\n",
       "      <td>9</td>\n",
       "      <td>V270</td>\n",
       "      <td>9</td>\n",
       "      <td>Outcome of delivery, single liveborn</td>\n",
       "    </tr>\n",
       "    <tr>\n",
       "      <th>3</th>\n",
       "      <td>15734973</td>\n",
       "      <td>20475282</td>\n",
       "      <td>5</td>\n",
       "      <td>V270</td>\n",
       "      <td>9</td>\n",
       "      <td>V270</td>\n",
       "      <td>10</td>\n",
       "      <td>Motorcycle driver injured in collision with fi...</td>\n",
       "    </tr>\n",
       "    <tr>\n",
       "      <th>4</th>\n",
       "      <td>15734973</td>\n",
       "      <td>20475282</td>\n",
       "      <td>1</td>\n",
       "      <td>64891</td>\n",
       "      <td>9</td>\n",
       "      <td>64891</td>\n",
       "      <td>9</td>\n",
       "      <td>Other current conditions classifiable elsewher...</td>\n",
       "    </tr>\n",
       "  </tbody>\n",
       "</table>\n",
       "</div>"
      ],
      "text/plain": [
       "   subject_id   hadm_id  seq_num icd_code  icd_version icd_code  icd_version  \\\n",
       "0    15734973  20475282        3     2825            9     2825            9   \n",
       "1    15734973  20475282        2    V0251            9    V0251            9   \n",
       "2    15734973  20475282        5     V270            9     V270            9   \n",
       "3    15734973  20475282        5     V270            9     V270           10   \n",
       "4    15734973  20475282        1    64891            9    64891            9   \n",
       "\n",
       "                                          long_title  \n",
       "0                                  Sickle-cell trait  \n",
       "1  Carrier or suspected carrier of group B strept...  \n",
       "2               Outcome of delivery, single liveborn  \n",
       "3  Motorcycle driver injured in collision with fi...  \n",
       "4  Other current conditions classifiable elsewher...  "
      ]
     },
     "execution_count": 8,
     "metadata": {},
     "output_type": "execute_result"
    }
   ],
   "source": [
    "# join icd codes with dimensions to get the name of the icd codes\n",
    "\n",
    "sql = query_schema + \"\"\"\n",
    "SELECT *\n",
    "from mimiciv.diagnoses_icd dx\n",
    "join mimiciv.d_icd_diagnoses icd\n",
    "    on dx.icd_code=icd.icd_code\n",
    "limit 5\n",
    "\"\"\"\n",
    "df = pd.read_sql_query(sql,conn) \n",
    "df\n"
   ]
  },
  {
   "cell_type": "code",
   "execution_count": 14,
   "id": "4ffe32cf-48fd-4bb5-a5d1-8d708be9d37c",
   "metadata": {},
   "outputs": [
    {
     "data": {
      "text/html": [
       "<div>\n",
       "<style scoped>\n",
       "    .dataframe tbody tr th:only-of-type {\n",
       "        vertical-align: middle;\n",
       "    }\n",
       "\n",
       "    .dataframe tbody tr th {\n",
       "        vertical-align: top;\n",
       "    }\n",
       "\n",
       "    .dataframe thead th {\n",
       "        text-align: right;\n",
       "    }\n",
       "</style>\n",
       "<table border=\"1\" class=\"dataframe\">\n",
       "  <thead>\n",
       "    <tr style=\"text-align: right;\">\n",
       "      <th></th>\n",
       "      <th>subject_id</th>\n",
       "      <th>hadm_id</th>\n",
       "      <th>seq_num</th>\n",
       "      <th>icd_code</th>\n",
       "      <th>icd_version</th>\n",
       "      <th>icd_code</th>\n",
       "      <th>icd_version</th>\n",
       "      <th>long_title</th>\n",
       "    </tr>\n",
       "  </thead>\n",
       "  <tbody>\n",
       "    <tr>\n",
       "      <th>0</th>\n",
       "      <td>12615486</td>\n",
       "      <td>22971263</td>\n",
       "      <td>5</td>\n",
       "      <td>48241</td>\n",
       "      <td>9</td>\n",
       "      <td>48241</td>\n",
       "      <td>9</td>\n",
       "      <td>Methicillin susceptible pneumonia due to Staph...</td>\n",
       "    </tr>\n",
       "    <tr>\n",
       "      <th>1</th>\n",
       "      <td>11383042</td>\n",
       "      <td>24135826</td>\n",
       "      <td>11</td>\n",
       "      <td>4820</td>\n",
       "      <td>9</td>\n",
       "      <td>4820</td>\n",
       "      <td>9</td>\n",
       "      <td>Pneumonia due to Klebsiella pneumoniae</td>\n",
       "    </tr>\n",
       "    <tr>\n",
       "      <th>2</th>\n",
       "      <td>16327683</td>\n",
       "      <td>24544838</td>\n",
       "      <td>3</td>\n",
       "      <td>48241</td>\n",
       "      <td>9</td>\n",
       "      <td>48241</td>\n",
       "      <td>9</td>\n",
       "      <td>Methicillin susceptible pneumonia due to Staph...</td>\n",
       "    </tr>\n",
       "    <tr>\n",
       "      <th>3</th>\n",
       "      <td>16087867</td>\n",
       "      <td>22710718</td>\n",
       "      <td>10</td>\n",
       "      <td>48241</td>\n",
       "      <td>9</td>\n",
       "      <td>48241</td>\n",
       "      <td>9</td>\n",
       "      <td>Methicillin susceptible pneumonia due to Staph...</td>\n",
       "    </tr>\n",
       "    <tr>\n",
       "      <th>4</th>\n",
       "      <td>16625434</td>\n",
       "      <td>25780525</td>\n",
       "      <td>14</td>\n",
       "      <td>4820</td>\n",
       "      <td>9</td>\n",
       "      <td>4820</td>\n",
       "      <td>9</td>\n",
       "      <td>Pneumonia due to Klebsiella pneumoniae</td>\n",
       "    </tr>\n",
       "  </tbody>\n",
       "</table>\n",
       "</div>"
      ],
      "text/plain": [
       "   subject_id   hadm_id  seq_num icd_code  icd_version icd_code  icd_version  \\\n",
       "0    12615486  22971263        5    48241            9    48241            9   \n",
       "1    11383042  24135826       11     4820            9     4820            9   \n",
       "2    16327683  24544838        3    48241            9    48241            9   \n",
       "3    16087867  22710718       10    48241            9    48241            9   \n",
       "4    16625434  25780525       14     4820            9     4820            9   \n",
       "\n",
       "                                          long_title  \n",
       "0  Methicillin susceptible pneumonia due to Staph...  \n",
       "1             Pneumonia due to Klebsiella pneumoniae  \n",
       "2  Methicillin susceptible pneumonia due to Staph...  \n",
       "3  Methicillin susceptible pneumonia due to Staph...  \n",
       "4             Pneumonia due to Klebsiella pneumoniae  "
      ]
     },
     "execution_count": 14,
     "metadata": {},
     "output_type": "execute_result"
    }
   ],
   "source": [
    "# join icd codes with dimensions to get the name of the icd codes\n",
    "#search for pneumonia in the name\n",
    "\n",
    "sql = query_schema + \"\"\"\n",
    "SELECT *\n",
    "from mimiciv.diagnoses_icd dx\n",
    "join mimiciv.d_icd_diagnoses icd\n",
    "    on dx.icd_code=icd.icd_code\n",
    "where icd.long_title LIKE '%pneumonia%'\n",
    "limit 5\n",
    "\"\"\"\n",
    "df = pd.read_sql_query(sql,conn) \n",
    "df\n",
    "\n",
    "#icd9 480-488  Pneumonia And Influenza"
   ]
  },
  {
   "cell_type": "code",
   "execution_count": 104,
   "id": "222d294b-2c83-4d3f-99b1-9869641b0dfd",
   "metadata": {},
   "outputs": [
    {
     "data": {
      "text/html": [
       "<div>\n",
       "<style scoped>\n",
       "    .dataframe tbody tr th:only-of-type {\n",
       "        vertical-align: middle;\n",
       "    }\n",
       "\n",
       "    .dataframe tbody tr th {\n",
       "        vertical-align: top;\n",
       "    }\n",
       "\n",
       "    .dataframe thead th {\n",
       "        text-align: right;\n",
       "    }\n",
       "</style>\n",
       "<table border=\"1\" class=\"dataframe\">\n",
       "  <thead>\n",
       "    <tr style=\"text-align: right;\">\n",
       "      <th></th>\n",
       "      <th>subject_id</th>\n",
       "      <th>hadm_id</th>\n",
       "      <th>seq_num</th>\n",
       "      <th>icd_code</th>\n",
       "      <th>icd_version</th>\n",
       "      <th>icd_code</th>\n",
       "      <th>icd_version</th>\n",
       "      <th>long_title</th>\n",
       "    </tr>\n",
       "  </thead>\n",
       "  <tbody>\n",
       "    <tr>\n",
       "      <th>0</th>\n",
       "      <td>11383042</td>\n",
       "      <td>24135826</td>\n",
       "      <td>11</td>\n",
       "      <td>4820</td>\n",
       "      <td>9</td>\n",
       "      <td>4820</td>\n",
       "      <td>9</td>\n",
       "      <td>Pneumonia due to Klebsiella pneumoniae</td>\n",
       "    </tr>\n",
       "    <tr>\n",
       "      <th>1</th>\n",
       "      <td>16327683</td>\n",
       "      <td>24544838</td>\n",
       "      <td>3</td>\n",
       "      <td>48241</td>\n",
       "      <td>9</td>\n",
       "      <td>48241</td>\n",
       "      <td>9</td>\n",
       "      <td>Methicillin susceptible pneumonia due to Staph...</td>\n",
       "    </tr>\n",
       "    <tr>\n",
       "      <th>2</th>\n",
       "      <td>16087867</td>\n",
       "      <td>22710718</td>\n",
       "      <td>10</td>\n",
       "      <td>48241</td>\n",
       "      <td>9</td>\n",
       "      <td>48241</td>\n",
       "      <td>9</td>\n",
       "      <td>Methicillin susceptible pneumonia due to Staph...</td>\n",
       "    </tr>\n",
       "    <tr>\n",
       "      <th>3</th>\n",
       "      <td>16625434</td>\n",
       "      <td>25780525</td>\n",
       "      <td>14</td>\n",
       "      <td>4820</td>\n",
       "      <td>9</td>\n",
       "      <td>4820</td>\n",
       "      <td>9</td>\n",
       "      <td>Pneumonia due to Klebsiella pneumoniae</td>\n",
       "    </tr>\n",
       "    <tr>\n",
       "      <th>4</th>\n",
       "      <td>16209708</td>\n",
       "      <td>28071945</td>\n",
       "      <td>2</td>\n",
       "      <td>481</td>\n",
       "      <td>9</td>\n",
       "      <td>481</td>\n",
       "      <td>9</td>\n",
       "      <td>Pneumococcal pneumonia [Streptococcus pneumoni...</td>\n",
       "    </tr>\n",
       "    <tr>\n",
       "      <th>...</th>\n",
       "      <td>...</td>\n",
       "      <td>...</td>\n",
       "      <td>...</td>\n",
       "      <td>...</td>\n",
       "      <td>...</td>\n",
       "      <td>...</td>\n",
       "      <td>...</td>\n",
       "      <td>...</td>\n",
       "    </tr>\n",
       "    <tr>\n",
       "      <th>10668</th>\n",
       "      <td>16525331</td>\n",
       "      <td>20803309</td>\n",
       "      <td>9</td>\n",
       "      <td>J188</td>\n",
       "      <td>10</td>\n",
       "      <td>J188</td>\n",
       "      <td>10</td>\n",
       "      <td>Other pneumonia, unspecified organism</td>\n",
       "    </tr>\n",
       "    <tr>\n",
       "      <th>10669</th>\n",
       "      <td>18115365</td>\n",
       "      <td>29229210</td>\n",
       "      <td>1</td>\n",
       "      <td>J188</td>\n",
       "      <td>10</td>\n",
       "      <td>J188</td>\n",
       "      <td>10</td>\n",
       "      <td>Other pneumonia, unspecified organism</td>\n",
       "    </tr>\n",
       "    <tr>\n",
       "      <th>10670</th>\n",
       "      <td>16664099</td>\n",
       "      <td>21037949</td>\n",
       "      <td>1</td>\n",
       "      <td>J1000</td>\n",
       "      <td>10</td>\n",
       "      <td>J1000</td>\n",
       "      <td>10</td>\n",
       "      <td>Influenza due to other identified influenza vi...</td>\n",
       "    </tr>\n",
       "    <tr>\n",
       "      <th>10671</th>\n",
       "      <td>16050305</td>\n",
       "      <td>29914393</td>\n",
       "      <td>1</td>\n",
       "      <td>J129</td>\n",
       "      <td>10</td>\n",
       "      <td>J129</td>\n",
       "      <td>10</td>\n",
       "      <td>Viral pneumonia, unspecified</td>\n",
       "    </tr>\n",
       "    <tr>\n",
       "      <th>10672</th>\n",
       "      <td>12615486</td>\n",
       "      <td>22971263</td>\n",
       "      <td>5</td>\n",
       "      <td>48241</td>\n",
       "      <td>9</td>\n",
       "      <td>48241</td>\n",
       "      <td>9</td>\n",
       "      <td>Methicillin susceptible pneumonia due to Staph...</td>\n",
       "    </tr>\n",
       "  </tbody>\n",
       "</table>\n",
       "<p>10673 rows × 8 columns</p>\n",
       "</div>"
      ],
      "text/plain": [
       "       subject_id   hadm_id  seq_num icd_code  icd_version icd_code  \\\n",
       "0        11383042  24135826       11     4820            9     4820   \n",
       "1        16327683  24544838        3    48241            9    48241   \n",
       "2        16087867  22710718       10    48241            9    48241   \n",
       "3        16625434  25780525       14     4820            9     4820   \n",
       "4        16209708  28071945        2      481            9      481   \n",
       "...           ...       ...      ...      ...          ...      ...   \n",
       "10668    16525331  20803309        9     J188           10     J188   \n",
       "10669    18115365  29229210        1     J188           10     J188   \n",
       "10670    16664099  21037949        1    J1000           10    J1000   \n",
       "10671    16050305  29914393        1     J129           10     J129   \n",
       "10672    12615486  22971263        5    48241            9    48241   \n",
       "\n",
       "       icd_version                                         long_title  \n",
       "0                9             Pneumonia due to Klebsiella pneumoniae  \n",
       "1                9  Methicillin susceptible pneumonia due to Staph...  \n",
       "2                9  Methicillin susceptible pneumonia due to Staph...  \n",
       "3                9             Pneumonia due to Klebsiella pneumoniae  \n",
       "4                9  Pneumococcal pneumonia [Streptococcus pneumoni...  \n",
       "...            ...                                                ...  \n",
       "10668           10              Other pneumonia, unspecified organism  \n",
       "10669           10              Other pneumonia, unspecified organism  \n",
       "10670           10  Influenza due to other identified influenza vi...  \n",
       "10671           10                       Viral pneumonia, unspecified  \n",
       "10672            9  Methicillin susceptible pneumonia due to Staph...  \n",
       "\n",
       "[10673 rows x 8 columns]"
      ]
     },
     "execution_count": 104,
     "metadata": {},
     "output_type": "execute_result"
    }
   ],
   "source": [
    "# join icd codes with dimensions to get the name of the icd codes\n",
    "#search for pneumonia in the name\n",
    "#remove limit \n",
    "#icd9 480-488  Pneumonia And Influenza\n",
    "\n",
    "sql = query_schema + \"\"\"\n",
    "SELECT *\n",
    "from mimiciv.diagnoses_icd dx\n",
    "join mimiciv.d_icd_diagnoses icd\n",
    "    on dx.icd_code=icd.icd_code\n",
    "where icd.long_title LIKE '%pneumonia%'\n",
    "\"\"\"\n",
    "df = pd.read_sql_query(sql,conn) \n",
    "df\n",
    "\n",
    "#mixture of icd 9 and 10 but seems to capture a good number of patients "
   ]
  },
  {
   "cell_type": "code",
   "execution_count": 17,
   "id": "198bfd6d-4a27-40fa-8e39-dfc3cda19bc5",
   "metadata": {},
   "outputs": [],
   "source": [
    "df.to_csv(\"mimiciv-pneumonia-icd-names2-12-22.csv\")"
   ]
  },
  {
   "cell_type": "code",
   "execution_count": null,
   "id": "10229037-557f-4bab-8ec4-c06eda67e71a",
   "metadata": {},
   "outputs": [],
   "source": []
  },
  {
   "cell_type": "code",
   "execution_count": 50,
   "id": "a7ab80d6-3420-4798-b119-f685e1a8f262",
   "metadata": {},
   "outputs": [
    {
     "data": {
      "text/plain": [
       "8584"
      ]
     },
     "execution_count": 50,
     "metadata": {},
     "output_type": "execute_result"
    }
   ],
   "source": [
    "len(df.subject_id.unique())"
   ]
  },
  {
   "cell_type": "code",
   "execution_count": 51,
   "id": "44f0a593-31ee-4013-8e2c-34babe09f903",
   "metadata": {},
   "outputs": [
    {
     "data": {
      "text/plain": [
       "9999"
      ]
     },
     "execution_count": 51,
     "metadata": {},
     "output_type": "execute_result"
    }
   ],
   "source": [
    "len(df.hadm_id.unique())"
   ]
  },
  {
   "cell_type": "code",
   "execution_count": 52,
   "id": "a434c56b-d8a2-4b76-a1b7-34dd519528d1",
   "metadata": {},
   "outputs": [
    {
     "ename": "AttributeError",
     "evalue": "'DataFrame' object has no attribute 'unique'",
     "output_type": "error",
     "traceback": [
      "\u001b[0;31m---------------------------------------------------------------------------\u001b[0m",
      "\u001b[0;31mAttributeError\u001b[0m                            Traceback (most recent call last)",
      "\u001b[0;32m/var/folders/8m/9j2wrs6d6zbcpn17t7n7g8w80000gn/T/ipykernel_33722/739289834.py\u001b[0m in \u001b[0;36m<module>\u001b[0;34m\u001b[0m\n\u001b[0;32m----> 1\u001b[0;31m \u001b[0mlen\u001b[0m\u001b[0;34m(\u001b[0m\u001b[0mdf\u001b[0m\u001b[0;34m.\u001b[0m\u001b[0micd_code\u001b[0m\u001b[0;34m.\u001b[0m\u001b[0munique\u001b[0m\u001b[0;34m(\u001b[0m\u001b[0;34m)\u001b[0m\u001b[0;34m)\u001b[0m\u001b[0;34m\u001b[0m\u001b[0;34m\u001b[0m\u001b[0m\n\u001b[0m",
      "\u001b[0;32m~/opt/anaconda3/lib/python3.9/site-packages/pandas/core/generic.py\u001b[0m in \u001b[0;36m__getattr__\u001b[0;34m(self, name)\u001b[0m\n\u001b[1;32m   5485\u001b[0m         ):\n\u001b[1;32m   5486\u001b[0m             \u001b[0;32mreturn\u001b[0m \u001b[0mself\u001b[0m\u001b[0;34m[\u001b[0m\u001b[0mname\u001b[0m\u001b[0;34m]\u001b[0m\u001b[0;34m\u001b[0m\u001b[0;34m\u001b[0m\u001b[0m\n\u001b[0;32m-> 5487\u001b[0;31m         \u001b[0;32mreturn\u001b[0m \u001b[0mobject\u001b[0m\u001b[0;34m.\u001b[0m\u001b[0m__getattribute__\u001b[0m\u001b[0;34m(\u001b[0m\u001b[0mself\u001b[0m\u001b[0;34m,\u001b[0m \u001b[0mname\u001b[0m\u001b[0;34m)\u001b[0m\u001b[0;34m\u001b[0m\u001b[0;34m\u001b[0m\u001b[0m\n\u001b[0m\u001b[1;32m   5488\u001b[0m \u001b[0;34m\u001b[0m\u001b[0m\n\u001b[1;32m   5489\u001b[0m     \u001b[0;32mdef\u001b[0m \u001b[0m__setattr__\u001b[0m\u001b[0;34m(\u001b[0m\u001b[0mself\u001b[0m\u001b[0;34m,\u001b[0m \u001b[0mname\u001b[0m\u001b[0;34m:\u001b[0m \u001b[0mstr\u001b[0m\u001b[0;34m,\u001b[0m \u001b[0mvalue\u001b[0m\u001b[0;34m)\u001b[0m \u001b[0;34m->\u001b[0m \u001b[0;32mNone\u001b[0m\u001b[0;34m:\u001b[0m\u001b[0;34m\u001b[0m\u001b[0;34m\u001b[0m\u001b[0m\n",
      "\u001b[0;31mAttributeError\u001b[0m: 'DataFrame' object has no attribute 'unique'"
     ]
    }
   ],
   "source": [
    "len(df.icd_code.unique())"
   ]
  },
  {
   "cell_type": "code",
   "execution_count": 53,
   "id": "5f59276e-1fda-4e42-8cce-b0a41e284fe4",
   "metadata": {},
   "outputs": [
    {
     "data": {
      "text/plain": [
       "icd_code    69\n",
       "icd_code    69\n",
       "dtype: int64"
      ]
     },
     "execution_count": 53,
     "metadata": {},
     "output_type": "execute_result"
    }
   ],
   "source": [
    "(df['icd_code'].nunique())"
   ]
  },
  {
   "cell_type": "code",
   "execution_count": 54,
   "id": "7d824ecc-359e-42a7-943e-31932e39c846",
   "metadata": {},
   "outputs": [
    {
     "data": {
      "text/plain": [
       "Index(['subject_id', 'hadm_id', 'seq_num', 'icd_code', 'icd_version',\n",
       "       'icd_code', 'icd_version', 'long_title'],\n",
       "      dtype='object')"
      ]
     },
     "execution_count": 54,
     "metadata": {},
     "output_type": "execute_result"
    }
   ],
   "source": [
    "df.columns"
   ]
  },
  {
   "cell_type": "code",
   "execution_count": 68,
   "id": "81f73665-f38b-4387-9496-563a276be6c5",
   "metadata": {},
   "outputs": [
    {
     "data": {
      "text/plain": [
       "subject_id      int64\n",
       "hadm_id         int64\n",
       "seq_num         int64\n",
       "icd_code       object\n",
       "icd_version     int64\n",
       "icd_code       object\n",
       "icd_version     int64\n",
       "long_title     object\n",
       "dtype: object"
      ]
     },
     "execution_count": 68,
     "metadata": {},
     "output_type": "execute_result"
    }
   ],
   "source": [
    "df.dtypes"
   ]
  },
  {
   "cell_type": "code",
   "execution_count": 69,
   "id": "16faaae2-3daa-4b67-9171-f26c6a14f94a",
   "metadata": {},
   "outputs": [
    {
     "data": {
      "text/plain": [
       "Ventilator associated pneumonia                                                                                           1723\n",
       "Klebsiella pneumoniae [K. pneumoniae] as the cause of diseases classified elsewhere                                       1425\n",
       "Personal history of pneumonia (recurrent)                                                                                 1208\n",
       "Bacterial pneumonia, unspecified                                                                                          1093\n",
       "Other specified vaccinations against streptococcus pneumoniae [pneumococcus]                                              1007\n",
       "                                                                                                                          ... \n",
       "Tuberculous pneumonia [any form], tubercle bacilli not found (in sputum) by microscopy, but found by bacterial culture       1\n",
       "Tuberculous pneumonia [any form], unspecified                                                                                1\n",
       "Influenza due to identified 2009 H1N1 influenza virus with pneumonia                                                         1\n",
       "Idiopathic lymphoid interstitial pneumonia                                                                                   1\n",
       "Varicella pneumonia                                                                                                          1\n",
       "Name: long_title, Length: 62, dtype: int64"
      ]
     },
     "execution_count": 69,
     "metadata": {},
     "output_type": "execute_result"
    }
   ],
   "source": [
    "df.long_title.value_counts()"
   ]
  },
  {
   "cell_type": "code",
   "execution_count": 76,
   "id": "0e2792ff-b504-472a-92b3-9522232bbe7c",
   "metadata": {},
   "outputs": [
    {
     "data": {
      "text/html": [
       "<div>\n",
       "<style scoped>\n",
       "    .dataframe tbody tr th:only-of-type {\n",
       "        vertical-align: middle;\n",
       "    }\n",
       "\n",
       "    .dataframe tbody tr th {\n",
       "        vertical-align: top;\n",
       "    }\n",
       "\n",
       "    .dataframe thead th {\n",
       "        text-align: right;\n",
       "    }\n",
       "</style>\n",
       "<table border=\"1\" class=\"dataframe\">\n",
       "  <thead>\n",
       "    <tr style=\"text-align: right;\">\n",
       "      <th></th>\n",
       "      <th>subject_id</th>\n",
       "      <th>hadm_id</th>\n",
       "      <th>seq_num</th>\n",
       "      <th>icd_code</th>\n",
       "      <th>icd_version</th>\n",
       "      <th>icd_code</th>\n",
       "      <th>icd_version</th>\n",
       "      <th>long_title</th>\n",
       "    </tr>\n",
       "  </thead>\n",
       "  <tbody>\n",
       "    <tr>\n",
       "      <th>10672</th>\n",
       "      <td>12615486</td>\n",
       "      <td>22971263</td>\n",
       "      <td>5</td>\n",
       "      <td>48241</td>\n",
       "      <td>9</td>\n",
       "      <td>48241</td>\n",
       "      <td>9</td>\n",
       "      <td>Methicillin susceptible pneumonia due to Staph...</td>\n",
       "    </tr>\n",
       "  </tbody>\n",
       "</table>\n",
       "</div>"
      ],
      "text/plain": [
       "       subject_id   hadm_id  seq_num icd_code  icd_version icd_code  \\\n",
       "10672    12615486  22971263        5    48241            9    48241   \n",
       "\n",
       "       icd_version                                         long_title  \n",
       "10672            9  Methicillin susceptible pneumonia due to Staph...  "
      ]
     },
     "execution_count": 76,
     "metadata": {},
     "output_type": "execute_result"
    }
   ],
   "source": [
    "#what does a single admission's pneumonia icd codes look like?\n",
    "df[df['hadm_id']==25780525]"
   ]
  },
  {
   "cell_type": "code",
   "execution_count": 78,
   "id": "51b247e3-769a-4943-a6e8-3725c86e8357",
   "metadata": {},
   "outputs": [
    {
     "data": {
      "text/html": [
       "<div>\n",
       "<style scoped>\n",
       "    .dataframe tbody tr th:only-of-type {\n",
       "        vertical-align: middle;\n",
       "    }\n",
       "\n",
       "    .dataframe tbody tr th {\n",
       "        vertical-align: top;\n",
       "    }\n",
       "\n",
       "    .dataframe thead th {\n",
       "        text-align: right;\n",
       "    }\n",
       "</style>\n",
       "<table border=\"1\" class=\"dataframe\">\n",
       "  <thead>\n",
       "    <tr style=\"text-align: right;\">\n",
       "      <th></th>\n",
       "      <th>subject_id</th>\n",
       "      <th>hadm_id</th>\n",
       "      <th>seq_num</th>\n",
       "      <th>icd_code</th>\n",
       "      <th>icd_version</th>\n",
       "      <th>icd_code</th>\n",
       "      <th>icd_version</th>\n",
       "      <th>long_title</th>\n",
       "    </tr>\n",
       "  </thead>\n",
       "  <tbody>\n",
       "    <tr>\n",
       "      <th>3</th>\n",
       "      <td>16625434</td>\n",
       "      <td>25780525</td>\n",
       "      <td>14</td>\n",
       "      <td>4820</td>\n",
       "      <td>9</td>\n",
       "      <td>4820</td>\n",
       "      <td>9</td>\n",
       "      <td>Pneumonia due to Klebsiella pneumoniae</td>\n",
       "    </tr>\n",
       "  </tbody>\n",
       "</table>\n",
       "</div>"
      ],
      "text/plain": [
       "   subject_id   hadm_id  seq_num icd_code  icd_version icd_code  icd_version  \\\n",
       "3    16625434  25780525       14     4820            9     4820            9   \n",
       "\n",
       "                               long_title  \n",
       "3  Pneumonia due to Klebsiella pneumoniae  "
      ]
     },
     "execution_count": 78,
     "metadata": {},
     "output_type": "execute_result"
    }
   ],
   "source": [
    "df[df['hadm_id']==25780525]"
   ]
  },
  {
   "cell_type": "code",
   "execution_count": 88,
   "id": "fe9d6b76-f9d9-4e5d-a4d5-755fcf9b8bc3",
   "metadata": {},
   "outputs": [],
   "source": [
    "df2 = df #oops, did weird equal thing, messed up why is it adding b to everything? "
   ]
  },
  {
   "cell_type": "code",
   "execution_count": 93,
   "id": "47351e49-0b25-45c6-9798-5be1648d43a9",
   "metadata": {},
   "outputs": [],
   "source": [
    "df2['long_title']=df2['long_title'].astype('|S') "
   ]
  },
  {
   "cell_type": "code",
   "execution_count": 83,
   "id": "064e330e-f5a1-4c8a-b1c1-1c771aeec688",
   "metadata": {},
   "outputs": [
    {
     "ename": "AttributeError",
     "evalue": "'DataFrame' object has no attribute 'group_by'",
     "output_type": "error",
     "traceback": [
      "\u001b[0;31m---------------------------------------------------------------------------\u001b[0m",
      "\u001b[0;31mAttributeError\u001b[0m                            Traceback (most recent call last)",
      "\u001b[0;32m/var/folders/8m/9j2wrs6d6zbcpn17t7n7g8w80000gn/T/ipykernel_33722/1145650414.py\u001b[0m in \u001b[0;36m<module>\u001b[0;34m\u001b[0m\n\u001b[0;32m----> 1\u001b[0;31m \u001b[0mdf2\u001b[0m\u001b[0;34m.\u001b[0m\u001b[0mgroup_by\u001b[0m\u001b[0;34m(\u001b[0m\u001b[0;34m'icd_code'\u001b[0m\u001b[0;34m)\u001b[0m\u001b[0;34m.\u001b[0m\u001b[0mvalue_counts\u001b[0m\u001b[0;34m(\u001b[0m\u001b[0;34m)\u001b[0m\u001b[0;34m\u001b[0m\u001b[0;34m\u001b[0m\u001b[0m\n\u001b[0m",
      "\u001b[0;32m~/opt/anaconda3/lib/python3.9/site-packages/pandas/core/generic.py\u001b[0m in \u001b[0;36m__getattr__\u001b[0;34m(self, name)\u001b[0m\n\u001b[1;32m   5485\u001b[0m         ):\n\u001b[1;32m   5486\u001b[0m             \u001b[0;32mreturn\u001b[0m \u001b[0mself\u001b[0m\u001b[0;34m[\u001b[0m\u001b[0mname\u001b[0m\u001b[0;34m]\u001b[0m\u001b[0;34m\u001b[0m\u001b[0;34m\u001b[0m\u001b[0m\n\u001b[0;32m-> 5487\u001b[0;31m         \u001b[0;32mreturn\u001b[0m \u001b[0mobject\u001b[0m\u001b[0;34m.\u001b[0m\u001b[0m__getattribute__\u001b[0m\u001b[0;34m(\u001b[0m\u001b[0mself\u001b[0m\u001b[0;34m,\u001b[0m \u001b[0mname\u001b[0m\u001b[0;34m)\u001b[0m\u001b[0;34m\u001b[0m\u001b[0;34m\u001b[0m\u001b[0m\n\u001b[0m\u001b[1;32m   5488\u001b[0m \u001b[0;34m\u001b[0m\u001b[0m\n\u001b[1;32m   5489\u001b[0m     \u001b[0;32mdef\u001b[0m \u001b[0m__setattr__\u001b[0m\u001b[0;34m(\u001b[0m\u001b[0mself\u001b[0m\u001b[0;34m,\u001b[0m \u001b[0mname\u001b[0m\u001b[0;34m:\u001b[0m \u001b[0mstr\u001b[0m\u001b[0;34m,\u001b[0m \u001b[0mvalue\u001b[0m\u001b[0;34m)\u001b[0m \u001b[0;34m->\u001b[0m \u001b[0;32mNone\u001b[0m\u001b[0;34m:\u001b[0m\u001b[0;34m\u001b[0m\u001b[0;34m\u001b[0m\u001b[0m\n",
      "\u001b[0;31mAttributeError\u001b[0m: 'DataFrame' object has no attribute 'group_by'"
     ]
    }
   ],
   "source": [
    "df2.group_by('icd_code').value_counts()"
   ]
  },
  {
   "cell_type": "code",
   "execution_count": 95,
   "id": "e9391efd-435b-41f8-a333-5e584dfc14f4",
   "metadata": {},
   "outputs": [
    {
     "data": {
      "text/html": [
       "<div>\n",
       "<style scoped>\n",
       "    .dataframe tbody tr th:only-of-type {\n",
       "        vertical-align: middle;\n",
       "    }\n",
       "\n",
       "    .dataframe tbody tr th {\n",
       "        vertical-align: top;\n",
       "    }\n",
       "\n",
       "    .dataframe thead th {\n",
       "        text-align: right;\n",
       "    }\n",
       "</style>\n",
       "<table border=\"1\" class=\"dataframe\">\n",
       "  <thead>\n",
       "    <tr style=\"text-align: right;\">\n",
       "      <th></th>\n",
       "      <th>subject_id</th>\n",
       "      <th>hadm_id</th>\n",
       "      <th>seq_num</th>\n",
       "      <th>icd_code</th>\n",
       "      <th>icd_version</th>\n",
       "      <th>icd_code</th>\n",
       "      <th>icd_version</th>\n",
       "      <th>long_title</th>\n",
       "    </tr>\n",
       "  </thead>\n",
       "  <tbody>\n",
       "    <tr>\n",
       "      <th>0</th>\n",
       "      <td>11383042</td>\n",
       "      <td>24135826</td>\n",
       "      <td>11</td>\n",
       "      <td>b'4820'</td>\n",
       "      <td>9</td>\n",
       "      <td>b'4820'</td>\n",
       "      <td>9</td>\n",
       "      <td>b'Pneumonia due to Klebsiella pneumoniae'</td>\n",
       "    </tr>\n",
       "    <tr>\n",
       "      <th>1</th>\n",
       "      <td>16327683</td>\n",
       "      <td>24544838</td>\n",
       "      <td>3</td>\n",
       "      <td>b'48241'</td>\n",
       "      <td>9</td>\n",
       "      <td>b'48241'</td>\n",
       "      <td>9</td>\n",
       "      <td>b'Methicillin susceptible pneumonia due to Sta...</td>\n",
       "    </tr>\n",
       "    <tr>\n",
       "      <th>2</th>\n",
       "      <td>16087867</td>\n",
       "      <td>22710718</td>\n",
       "      <td>10</td>\n",
       "      <td>b'48241'</td>\n",
       "      <td>9</td>\n",
       "      <td>b'48241'</td>\n",
       "      <td>9</td>\n",
       "      <td>b'Methicillin susceptible pneumonia due to Sta...</td>\n",
       "    </tr>\n",
       "    <tr>\n",
       "      <th>3</th>\n",
       "      <td>16625434</td>\n",
       "      <td>25780525</td>\n",
       "      <td>14</td>\n",
       "      <td>b'4820'</td>\n",
       "      <td>9</td>\n",
       "      <td>b'4820'</td>\n",
       "      <td>9</td>\n",
       "      <td>b'Pneumonia due to Klebsiella pneumoniae'</td>\n",
       "    </tr>\n",
       "    <tr>\n",
       "      <th>4</th>\n",
       "      <td>16209708</td>\n",
       "      <td>28071945</td>\n",
       "      <td>2</td>\n",
       "      <td>b'481'</td>\n",
       "      <td>9</td>\n",
       "      <td>b'481'</td>\n",
       "      <td>9</td>\n",
       "      <td>b'Pneumococcal pneumonia [Streptococcus pneumo...</td>\n",
       "    </tr>\n",
       "  </tbody>\n",
       "</table>\n",
       "</div>"
      ],
      "text/plain": [
       "   subject_id   hadm_id  seq_num  icd_code  icd_version  icd_code  \\\n",
       "0    11383042  24135826       11   b'4820'            9   b'4820'   \n",
       "1    16327683  24544838        3  b'48241'            9  b'48241'   \n",
       "2    16087867  22710718       10  b'48241'            9  b'48241'   \n",
       "3    16625434  25780525       14   b'4820'            9   b'4820'   \n",
       "4    16209708  28071945        2    b'481'            9    b'481'   \n",
       "\n",
       "   icd_version                                         long_title  \n",
       "0            9          b'Pneumonia due to Klebsiella pneumoniae'  \n",
       "1            9  b'Methicillin susceptible pneumonia due to Sta...  \n",
       "2            9  b'Methicillin susceptible pneumonia due to Sta...  \n",
       "3            9          b'Pneumonia due to Klebsiella pneumoniae'  \n",
       "4            9  b'Pneumococcal pneumonia [Streptococcus pneumo...  "
      ]
     },
     "execution_count": 95,
     "metadata": {},
     "output_type": "execute_result"
    }
   ],
   "source": [
    "df2.head()"
   ]
  },
  {
   "cell_type": "code",
   "execution_count": 96,
   "id": "b444614c-4957-4c84-bf9c-f43dc524550d",
   "metadata": {},
   "outputs": [
    {
     "data": {
      "text/html": [
       "<div>\n",
       "<style scoped>\n",
       "    .dataframe tbody tr th:only-of-type {\n",
       "        vertical-align: middle;\n",
       "    }\n",
       "\n",
       "    .dataframe tbody tr th {\n",
       "        vertical-align: top;\n",
       "    }\n",
       "\n",
       "    .dataframe thead th {\n",
       "        text-align: right;\n",
       "    }\n",
       "</style>\n",
       "<table border=\"1\" class=\"dataframe\">\n",
       "  <thead>\n",
       "    <tr style=\"text-align: right;\">\n",
       "      <th></th>\n",
       "      <th>subject_id</th>\n",
       "      <th>hadm_id</th>\n",
       "      <th>seq_num</th>\n",
       "      <th>icd_code</th>\n",
       "      <th>icd_version</th>\n",
       "      <th>icd_code</th>\n",
       "      <th>icd_version</th>\n",
       "      <th>long_title</th>\n",
       "    </tr>\n",
       "  </thead>\n",
       "  <tbody>\n",
       "    <tr>\n",
       "      <th>0</th>\n",
       "      <td>11383042</td>\n",
       "      <td>24135826</td>\n",
       "      <td>11</td>\n",
       "      <td>b'4820'</td>\n",
       "      <td>9</td>\n",
       "      <td>b'4820'</td>\n",
       "      <td>9</td>\n",
       "      <td>b'Pneumonia due to Klebsiella pneumoniae'</td>\n",
       "    </tr>\n",
       "    <tr>\n",
       "      <th>1</th>\n",
       "      <td>16327683</td>\n",
       "      <td>24544838</td>\n",
       "      <td>3</td>\n",
       "      <td>b'48241'</td>\n",
       "      <td>9</td>\n",
       "      <td>b'48241'</td>\n",
       "      <td>9</td>\n",
       "      <td>b'Methicillin susceptible pneumonia due to Sta...</td>\n",
       "    </tr>\n",
       "    <tr>\n",
       "      <th>2</th>\n",
       "      <td>16087867</td>\n",
       "      <td>22710718</td>\n",
       "      <td>10</td>\n",
       "      <td>b'48241'</td>\n",
       "      <td>9</td>\n",
       "      <td>b'48241'</td>\n",
       "      <td>9</td>\n",
       "      <td>b'Methicillin susceptible pneumonia due to Sta...</td>\n",
       "    </tr>\n",
       "    <tr>\n",
       "      <th>3</th>\n",
       "      <td>16625434</td>\n",
       "      <td>25780525</td>\n",
       "      <td>14</td>\n",
       "      <td>b'4820'</td>\n",
       "      <td>9</td>\n",
       "      <td>b'4820'</td>\n",
       "      <td>9</td>\n",
       "      <td>b'Pneumonia due to Klebsiella pneumoniae'</td>\n",
       "    </tr>\n",
       "    <tr>\n",
       "      <th>4</th>\n",
       "      <td>16209708</td>\n",
       "      <td>28071945</td>\n",
       "      <td>2</td>\n",
       "      <td>b'481'</td>\n",
       "      <td>9</td>\n",
       "      <td>b'481'</td>\n",
       "      <td>9</td>\n",
       "      <td>b'Pneumococcal pneumonia [Streptococcus pneumo...</td>\n",
       "    </tr>\n",
       "  </tbody>\n",
       "</table>\n",
       "</div>"
      ],
      "text/plain": [
       "   subject_id   hadm_id  seq_num  icd_code  icd_version  icd_code  \\\n",
       "0    11383042  24135826       11   b'4820'            9   b'4820'   \n",
       "1    16327683  24544838        3  b'48241'            9  b'48241'   \n",
       "2    16087867  22710718       10  b'48241'            9  b'48241'   \n",
       "3    16625434  25780525       14   b'4820'            9   b'4820'   \n",
       "4    16209708  28071945        2    b'481'            9    b'481'   \n",
       "\n",
       "   icd_version                                         long_title  \n",
       "0            9          b'Pneumonia due to Klebsiella pneumoniae'  \n",
       "1            9  b'Methicillin susceptible pneumonia due to Sta...  \n",
       "2            9  b'Methicillin susceptible pneumonia due to Sta...  \n",
       "3            9          b'Pneumonia due to Klebsiella pneumoniae'  \n",
       "4            9  b'Pneumococcal pneumonia [Streptococcus pneumo...  "
      ]
     },
     "execution_count": 96,
     "metadata": {},
     "output_type": "execute_result"
    }
   ],
   "source": [
    "df.head()"
   ]
  },
  {
   "cell_type": "code",
   "execution_count": 97,
   "id": "70da583f-2773-436d-9741-739fe47d878a",
   "metadata": {},
   "outputs": [
    {
     "data": {
      "text/plain": [
       "subject_id     int64\n",
       "hadm_id        int64\n",
       "seq_num        int64\n",
       "icd_code         |S6\n",
       "icd_version    int64\n",
       "icd_code         |S6\n",
       "icd_version    int64\n",
       "long_title     |S118\n",
       "dtype: object"
      ]
     },
     "execution_count": 97,
     "metadata": {},
     "output_type": "execute_result"
    }
   ],
   "source": [
    "df.dtypes"
   ]
  },
  {
   "cell_type": "code",
   "execution_count": 100,
   "id": "309fbe53-debb-4514-a6b1-31bc46de5b17",
   "metadata": {},
   "outputs": [],
   "source": [
    "df2['long_title']=df2['long_title'].astype('str') "
   ]
  },
  {
   "cell_type": "code",
   "execution_count": 101,
   "id": "7e59b8f5-556a-492a-bfb4-9c6fa2606422",
   "metadata": {},
   "outputs": [
    {
     "data": {
      "text/plain": [
       "subject_id      int64\n",
       "hadm_id         int64\n",
       "seq_num         int64\n",
       "icd_code          |S6\n",
       "icd_version     int64\n",
       "icd_code          |S6\n",
       "icd_version     int64\n",
       "long_title     object\n",
       "dtype: object"
      ]
     },
     "execution_count": 101,
     "metadata": {},
     "output_type": "execute_result"
    }
   ],
   "source": [
    "df2.dtypes"
   ]
  },
  {
   "cell_type": "code",
   "execution_count": 103,
   "id": "748571f2-e08d-43e1-a270-8ca862b40a37",
   "metadata": {},
   "outputs": [
    {
     "ename": "ValueError",
     "evalue": "Grouper for 'icd_code' not 1-dimensional",
     "output_type": "error",
     "traceback": [
      "\u001b[0;31m---------------------------------------------------------------------------\u001b[0m",
      "\u001b[0;31mValueError\u001b[0m                                Traceback (most recent call last)",
      "\u001b[0;32m/var/folders/8m/9j2wrs6d6zbcpn17t7n7g8w80000gn/T/ipykernel_33722/3162184423.py\u001b[0m in \u001b[0;36m<module>\u001b[0;34m\u001b[0m\n\u001b[0;32m----> 1\u001b[0;31m \u001b[0mdf2\u001b[0m\u001b[0;34m.\u001b[0m\u001b[0mgroupby\u001b[0m\u001b[0;34m(\u001b[0m\u001b[0;34m'icd_code'\u001b[0m\u001b[0;34m)\u001b[0m\u001b[0;34m.\u001b[0m\u001b[0mvalue_counts\u001b[0m\u001b[0;34m(\u001b[0m\u001b[0;34m)\u001b[0m\u001b[0;34m\u001b[0m\u001b[0;34m\u001b[0m\u001b[0m\n\u001b[0m",
      "\u001b[0;32m~/opt/anaconda3/lib/python3.9/site-packages/pandas/core/frame.py\u001b[0m in \u001b[0;36mgroupby\u001b[0;34m(self, by, axis, level, as_index, sort, group_keys, squeeze, observed, dropna)\u001b[0m\n\u001b[1;32m   7629\u001b[0m         \u001b[0;31m# error: Argument \"squeeze\" to \"DataFrameGroupBy\" has incompatible type\u001b[0m\u001b[0;34m\u001b[0m\u001b[0;34m\u001b[0m\u001b[0m\n\u001b[1;32m   7630\u001b[0m         \u001b[0;31m# \"Union[bool, NoDefault]\"; expected \"bool\"\u001b[0m\u001b[0;34m\u001b[0m\u001b[0;34m\u001b[0m\u001b[0m\n\u001b[0;32m-> 7631\u001b[0;31m         return DataFrameGroupBy(\n\u001b[0m\u001b[1;32m   7632\u001b[0m             \u001b[0mobj\u001b[0m\u001b[0;34m=\u001b[0m\u001b[0mself\u001b[0m\u001b[0;34m,\u001b[0m\u001b[0;34m\u001b[0m\u001b[0;34m\u001b[0m\u001b[0m\n\u001b[1;32m   7633\u001b[0m             \u001b[0mkeys\u001b[0m\u001b[0;34m=\u001b[0m\u001b[0mby\u001b[0m\u001b[0;34m,\u001b[0m\u001b[0;34m\u001b[0m\u001b[0;34m\u001b[0m\u001b[0m\n",
      "\u001b[0;32m~/opt/anaconda3/lib/python3.9/site-packages/pandas/core/groupby/groupby.py\u001b[0m in \u001b[0;36m__init__\u001b[0;34m(self, obj, keys, axis, level, grouper, exclusions, selection, as_index, sort, group_keys, squeeze, observed, mutated, dropna)\u001b[0m\n\u001b[1;32m    887\u001b[0m             \u001b[0;32mfrom\u001b[0m \u001b[0mpandas\u001b[0m\u001b[0;34m.\u001b[0m\u001b[0mcore\u001b[0m\u001b[0;34m.\u001b[0m\u001b[0mgroupby\u001b[0m\u001b[0;34m.\u001b[0m\u001b[0mgrouper\u001b[0m \u001b[0;32mimport\u001b[0m \u001b[0mget_grouper\u001b[0m\u001b[0;34m\u001b[0m\u001b[0;34m\u001b[0m\u001b[0m\n\u001b[1;32m    888\u001b[0m \u001b[0;34m\u001b[0m\u001b[0m\n\u001b[0;32m--> 889\u001b[0;31m             grouper, exclusions, obj = get_grouper(\n\u001b[0m\u001b[1;32m    890\u001b[0m                 \u001b[0mobj\u001b[0m\u001b[0;34m,\u001b[0m\u001b[0;34m\u001b[0m\u001b[0;34m\u001b[0m\u001b[0m\n\u001b[1;32m    891\u001b[0m                 \u001b[0mkeys\u001b[0m\u001b[0;34m,\u001b[0m\u001b[0;34m\u001b[0m\u001b[0;34m\u001b[0m\u001b[0m\n",
      "\u001b[0;32m~/opt/anaconda3/lib/python3.9/site-packages/pandas/core/groupby/grouper.py\u001b[0m in \u001b[0;36mget_grouper\u001b[0;34m(obj, key, axis, level, sort, observed, mutated, validate, dropna)\u001b[0m\n\u001b[1;32m    855\u001b[0m                     \u001b[0;31m# non-unique columns; raise here to get the name in the\u001b[0m\u001b[0;34m\u001b[0m\u001b[0;34m\u001b[0m\u001b[0m\n\u001b[1;32m    856\u001b[0m                     \u001b[0;31m# exception message\u001b[0m\u001b[0;34m\u001b[0m\u001b[0;34m\u001b[0m\u001b[0m\n\u001b[0;32m--> 857\u001b[0;31m                     \u001b[0;32mraise\u001b[0m \u001b[0mValueError\u001b[0m\u001b[0;34m(\u001b[0m\u001b[0;34mf\"Grouper for '{name}' not 1-dimensional\"\u001b[0m\u001b[0;34m)\u001b[0m\u001b[0;34m\u001b[0m\u001b[0;34m\u001b[0m\u001b[0m\n\u001b[0m\u001b[1;32m    858\u001b[0m                 \u001b[0mexclusions\u001b[0m\u001b[0;34m.\u001b[0m\u001b[0madd\u001b[0m\u001b[0;34m(\u001b[0m\u001b[0mname\u001b[0m\u001b[0;34m)\u001b[0m\u001b[0;34m\u001b[0m\u001b[0;34m\u001b[0m\u001b[0m\n\u001b[1;32m    859\u001b[0m             \u001b[0;32melif\u001b[0m \u001b[0mobj\u001b[0m\u001b[0;34m.\u001b[0m\u001b[0m_is_level_reference\u001b[0m\u001b[0;34m(\u001b[0m\u001b[0mgpr\u001b[0m\u001b[0;34m,\u001b[0m \u001b[0maxis\u001b[0m\u001b[0;34m=\u001b[0m\u001b[0maxis\u001b[0m\u001b[0;34m)\u001b[0m\u001b[0;34m:\u001b[0m\u001b[0;34m\u001b[0m\u001b[0;34m\u001b[0m\u001b[0m\n",
      "\u001b[0;31mValueError\u001b[0m: Grouper for 'icd_code' not 1-dimensional"
     ]
    }
   ],
   "source": [
    "df2.groupby('icd_code').value_counts()"
   ]
  },
  {
   "cell_type": "code",
   "execution_count": null,
   "id": "49d7322e-af13-4046-ab21-49e87d408e71",
   "metadata": {},
   "outputs": [],
   "source": []
  },
  {
   "cell_type": "code",
   "execution_count": 105,
   "id": "729cedeb-10ea-4917-9469-5f0f9cd7efaa",
   "metadata": {},
   "outputs": [],
   "source": [
    "df2 = df.copy()"
   ]
  },
  {
   "cell_type": "code",
   "execution_count": 106,
   "id": "47e97459-7b35-45d3-ba13-83209bee278f",
   "metadata": {},
   "outputs": [
    {
     "data": {
      "text/html": [
       "<div>\n",
       "<style scoped>\n",
       "    .dataframe tbody tr th:only-of-type {\n",
       "        vertical-align: middle;\n",
       "    }\n",
       "\n",
       "    .dataframe tbody tr th {\n",
       "        vertical-align: top;\n",
       "    }\n",
       "\n",
       "    .dataframe thead th {\n",
       "        text-align: right;\n",
       "    }\n",
       "</style>\n",
       "<table border=\"1\" class=\"dataframe\">\n",
       "  <thead>\n",
       "    <tr style=\"text-align: right;\">\n",
       "      <th></th>\n",
       "      <th>subject_id</th>\n",
       "      <th>hadm_id</th>\n",
       "      <th>seq_num</th>\n",
       "      <th>icd_code</th>\n",
       "      <th>icd_version</th>\n",
       "      <th>icd_code</th>\n",
       "      <th>icd_version</th>\n",
       "      <th>long_title</th>\n",
       "    </tr>\n",
       "  </thead>\n",
       "  <tbody>\n",
       "    <tr>\n",
       "      <th>0</th>\n",
       "      <td>11383042</td>\n",
       "      <td>24135826</td>\n",
       "      <td>11</td>\n",
       "      <td>4820</td>\n",
       "      <td>9</td>\n",
       "      <td>4820</td>\n",
       "      <td>9</td>\n",
       "      <td>Pneumonia due to Klebsiella pneumoniae</td>\n",
       "    </tr>\n",
       "    <tr>\n",
       "      <th>1</th>\n",
       "      <td>16327683</td>\n",
       "      <td>24544838</td>\n",
       "      <td>3</td>\n",
       "      <td>48241</td>\n",
       "      <td>9</td>\n",
       "      <td>48241</td>\n",
       "      <td>9</td>\n",
       "      <td>Methicillin susceptible pneumonia due to Staph...</td>\n",
       "    </tr>\n",
       "    <tr>\n",
       "      <th>2</th>\n",
       "      <td>16087867</td>\n",
       "      <td>22710718</td>\n",
       "      <td>10</td>\n",
       "      <td>48241</td>\n",
       "      <td>9</td>\n",
       "      <td>48241</td>\n",
       "      <td>9</td>\n",
       "      <td>Methicillin susceptible pneumonia due to Staph...</td>\n",
       "    </tr>\n",
       "    <tr>\n",
       "      <th>3</th>\n",
       "      <td>16625434</td>\n",
       "      <td>25780525</td>\n",
       "      <td>14</td>\n",
       "      <td>4820</td>\n",
       "      <td>9</td>\n",
       "      <td>4820</td>\n",
       "      <td>9</td>\n",
       "      <td>Pneumonia due to Klebsiella pneumoniae</td>\n",
       "    </tr>\n",
       "    <tr>\n",
       "      <th>4</th>\n",
       "      <td>16209708</td>\n",
       "      <td>28071945</td>\n",
       "      <td>2</td>\n",
       "      <td>481</td>\n",
       "      <td>9</td>\n",
       "      <td>481</td>\n",
       "      <td>9</td>\n",
       "      <td>Pneumococcal pneumonia [Streptococcus pneumoni...</td>\n",
       "    </tr>\n",
       "    <tr>\n",
       "      <th>...</th>\n",
       "      <td>...</td>\n",
       "      <td>...</td>\n",
       "      <td>...</td>\n",
       "      <td>...</td>\n",
       "      <td>...</td>\n",
       "      <td>...</td>\n",
       "      <td>...</td>\n",
       "      <td>...</td>\n",
       "    </tr>\n",
       "    <tr>\n",
       "      <th>10668</th>\n",
       "      <td>16525331</td>\n",
       "      <td>20803309</td>\n",
       "      <td>9</td>\n",
       "      <td>J188</td>\n",
       "      <td>10</td>\n",
       "      <td>J188</td>\n",
       "      <td>10</td>\n",
       "      <td>Other pneumonia, unspecified organism</td>\n",
       "    </tr>\n",
       "    <tr>\n",
       "      <th>10669</th>\n",
       "      <td>18115365</td>\n",
       "      <td>29229210</td>\n",
       "      <td>1</td>\n",
       "      <td>J188</td>\n",
       "      <td>10</td>\n",
       "      <td>J188</td>\n",
       "      <td>10</td>\n",
       "      <td>Other pneumonia, unspecified organism</td>\n",
       "    </tr>\n",
       "    <tr>\n",
       "      <th>10670</th>\n",
       "      <td>16664099</td>\n",
       "      <td>21037949</td>\n",
       "      <td>1</td>\n",
       "      <td>J1000</td>\n",
       "      <td>10</td>\n",
       "      <td>J1000</td>\n",
       "      <td>10</td>\n",
       "      <td>Influenza due to other identified influenza vi...</td>\n",
       "    </tr>\n",
       "    <tr>\n",
       "      <th>10671</th>\n",
       "      <td>16050305</td>\n",
       "      <td>29914393</td>\n",
       "      <td>1</td>\n",
       "      <td>J129</td>\n",
       "      <td>10</td>\n",
       "      <td>J129</td>\n",
       "      <td>10</td>\n",
       "      <td>Viral pneumonia, unspecified</td>\n",
       "    </tr>\n",
       "    <tr>\n",
       "      <th>10672</th>\n",
       "      <td>12615486</td>\n",
       "      <td>22971263</td>\n",
       "      <td>5</td>\n",
       "      <td>48241</td>\n",
       "      <td>9</td>\n",
       "      <td>48241</td>\n",
       "      <td>9</td>\n",
       "      <td>Methicillin susceptible pneumonia due to Staph...</td>\n",
       "    </tr>\n",
       "  </tbody>\n",
       "</table>\n",
       "<p>10673 rows × 8 columns</p>\n",
       "</div>"
      ],
      "text/plain": [
       "       subject_id   hadm_id  seq_num icd_code  icd_version icd_code  \\\n",
       "0        11383042  24135826       11     4820            9     4820   \n",
       "1        16327683  24544838        3    48241            9    48241   \n",
       "2        16087867  22710718       10    48241            9    48241   \n",
       "3        16625434  25780525       14     4820            9     4820   \n",
       "4        16209708  28071945        2      481            9      481   \n",
       "...           ...       ...      ...      ...          ...      ...   \n",
       "10668    16525331  20803309        9     J188           10     J188   \n",
       "10669    18115365  29229210        1     J188           10     J188   \n",
       "10670    16664099  21037949        1    J1000           10    J1000   \n",
       "10671    16050305  29914393        1     J129           10     J129   \n",
       "10672    12615486  22971263        5    48241            9    48241   \n",
       "\n",
       "       icd_version                                         long_title  \n",
       "0                9             Pneumonia due to Klebsiella pneumoniae  \n",
       "1                9  Methicillin susceptible pneumonia due to Staph...  \n",
       "2                9  Methicillin susceptible pneumonia due to Staph...  \n",
       "3                9             Pneumonia due to Klebsiella pneumoniae  \n",
       "4                9  Pneumococcal pneumonia [Streptococcus pneumoni...  \n",
       "...            ...                                                ...  \n",
       "10668           10              Other pneumonia, unspecified organism  \n",
       "10669           10              Other pneumonia, unspecified organism  \n",
       "10670           10  Influenza due to other identified influenza vi...  \n",
       "10671           10                       Viral pneumonia, unspecified  \n",
       "10672            9  Methicillin susceptible pneumonia due to Staph...  \n",
       "\n",
       "[10673 rows x 8 columns]"
      ]
     },
     "execution_count": 106,
     "metadata": {},
     "output_type": "execute_result"
    }
   ],
   "source": [
    "df2"
   ]
  },
  {
   "cell_type": "code",
   "execution_count": 110,
   "id": "634a49dd-e1a7-4213-81cc-4295f8fff2ee",
   "metadata": {},
   "outputs": [
    {
     "data": {
      "text/plain": [
       "Ventilator associated pneumonia                                                                                           1723\n",
       "Klebsiella pneumoniae [K. pneumoniae] as the cause of diseases classified elsewhere                                       1425\n",
       "Personal history of pneumonia (recurrent)                                                                                 1208\n",
       "Bacterial pneumonia, unspecified                                                                                          1093\n",
       "Other specified vaccinations against streptococcus pneumoniae [pneumococcus]                                              1007\n",
       "                                                                                                                          ... \n",
       "Tuberculous pneumonia [any form], tubercle bacilli not found (in sputum) by microscopy, but found by bacterial culture       1\n",
       "Tuberculous pneumonia [any form], unspecified                                                                                1\n",
       "Influenza due to identified 2009 H1N1 influenza virus with pneumonia                                                         1\n",
       "Idiopathic lymphoid interstitial pneumonia                                                                                   1\n",
       "Varicella pneumonia                                                                                                          1\n",
       "Name: long_title, Length: 62, dtype: int64"
      ]
     },
     "execution_count": 110,
     "metadata": {},
     "output_type": "execute_result"
    }
   ],
   "source": [
    "df2.long_title.value_counts()"
   ]
  },
  {
   "cell_type": "code",
   "execution_count": 112,
   "id": "e2f191fe-6c35-43a1-ac6f-47eaa3a9b9d6",
   "metadata": {},
   "outputs": [],
   "source": [
    "pd.set_option(\"display.max_rows\", None)"
   ]
  },
  {
   "cell_type": "code",
   "execution_count": 113,
   "id": "a40f4567-757f-405b-a302-855f4155934b",
   "metadata": {},
   "outputs": [
    {
     "data": {
      "text/plain": [
       "Ventilator associated pneumonia                                                                                           1723\n",
       "Klebsiella pneumoniae [K. pneumoniae] as the cause of diseases classified elsewhere                                       1425\n",
       "Personal history of pneumonia (recurrent)                                                                                 1208\n",
       "Bacterial pneumonia, unspecified                                                                                          1093\n",
       "Other specified vaccinations against streptococcus pneumoniae [pneumococcus]                                              1007\n",
       "Unspecified bacterial pneumonia                                                                                            716\n",
       "Methicillin resistant pneumonia due to Staphylococcus aureus                                                               346\n",
       "Methicillin susceptible pneumonia due to Staphylococcus aureus                                                             341\n",
       "Need for prophylactic vaccination and inoculation against streptococcus pneumoniae [pneumococcus] and influenza            338\n",
       "Pneumonia due to Klebsiella pneumoniae                                                                                     276\n",
       "Influenza with pneumonia                                                                                                   223\n",
       "Other pneumonia, unspecified organism                                                                                      200\n",
       "Pneumococcal pneumonia [Streptococcus pneumoniae pneumonia]                                                                188\n",
       "Viral pneumonia, unspecified                                                                                               159\n",
       "Cryptogenic organizing pneumonia                                                                                           125\n",
       "Lobar pneumonia, unspecified organism                                                                                      124\n",
       "Pneumonia due to Streptococcus pneumoniae                                                                                  123\n",
       "Pneumococcal septicemia [Streptococcus pneumoniae septicemia]                                                              107\n",
       "Influenza due to unidentified influenza virus with unspecified type of pneumonia                                            94\n",
       "Influenza due to other identified influenza virus with other specified pneumonia                                            91\n",
       "Influenza due to other identified influenza virus with unspecified type of pneumonia                                        88\n",
       "Postprocedural aspiration pneumonia                                                                                         73\n",
       "Abscess of lung with pneumonia                                                                                              64\n",
       "Influenza due to identified novel influenza A virus with pneumonia                                                          55\n",
       "Sepsis due to Streptococcus pneumoniae                                                                                      53\n",
       "Bronchopneumonia, organism unspecified                                                                                      52\n",
       "Streptococcus pneumoniae as the cause of diseases classified elsewhere                                                      40\n",
       "Influenza due to unidentified influenza virus with specified pneumonia                                                      39\n",
       "Congenital pneumonia                                                                                                        38\n",
       "Abscess of lung without pneumonia                                                                                           32\n",
       "Respiratory syncytial virus pneumonia                                                                                       29\n",
       "Bronchopneumonia, unspecified organism                                                                                      26\n",
       "Parainfluenza virus pneumonia                                                                                               23\n",
       "Other viral pneumonia                                                                                                       18\n",
       "Pneumonia due to mycoplasma pneumoniae                                                                                      18\n",
       "Other Staphylococcus pneumonia                                                                                              17\n",
       "Influenza due to other identified influenza virus with the same other identified influenza virus pneumonia                  14\n",
       "Influenza due to identified avian influenza virus with pneumonia                                                            12\n",
       "Congenital pneumonia, unspecified                                                                                           10\n",
       "Mycoplasma pneumoniae [M. pneumoniae] as the cause of diseases classified elsewhere                                          9\n",
       "Pneumonia due to Mycoplasma pneumoniae                                                                                       8\n",
       "Congenital pneumonia due to staphylococcus                                                                                   7\n",
       "Idiopathic interstitial pneumonia, not otherwise specified                                                                   6\n",
       "Congenital pneumonia due to other bacterial agents                                                                           5\n",
       "Desquamative interstitial pneumonia                                                                                          4\n",
       "Adenoviral pneumonia                                                                                                         3\n",
       "Congenital pneumonia due to Escherichia coli                                                                                 3\n",
       "Human metapneumovirus pneumonia                                                                                              3\n",
       "Infection by Histoplasma capsulatum, pneumonia                                                                               2\n",
       "Tuberculous pneumonia [any form], tubercle bacilli found (in sputum) by microscopy                                           2\n",
       "Whooping cough, unspecified species without pneumonia                                                                        2\n",
       "Congenital pneumonia due to Pseudomonas                                                                                      1\n",
       "Congenital pneumonia due to viral agent                                                                                      1\n",
       "Hypostatic pneumonia, unspecified organism                                                                                   1\n",
       "Salmonella pneumonia                                                                                                         1\n",
       "Lymphoid interstitial pneumonia                                                                                              1\n",
       "Congenital pneumonia due to streptococcus, group B                                                                           1\n",
       "Tuberculous pneumonia [any form], tubercle bacilli not found (in sputum) by microscopy, but found by bacterial culture       1\n",
       "Tuberculous pneumonia [any form], unspecified                                                                                1\n",
       "Influenza due to identified 2009 H1N1 influenza virus with pneumonia                                                         1\n",
       "Idiopathic lymphoid interstitial pneumonia                                                                                   1\n",
       "Varicella pneumonia                                                                                                          1\n",
       "Name: long_title, dtype: int64"
      ]
     },
     "execution_count": 113,
     "metadata": {},
     "output_type": "execute_result"
    }
   ],
   "source": [
    "df2.long_title.value_counts()"
   ]
  },
  {
   "cell_type": "code",
   "execution_count": 111,
   "id": "3c6e7fb6-5807-49d7-b499-7c055e555398",
   "metadata": {},
   "outputs": [
    {
     "data": {
      "text/plain": [
       "<AxesSubplot:ylabel='Frequency'>"
      ]
     },
     "execution_count": 111,
     "metadata": {},
     "output_type": "execute_result"
    },
    {
     "data": {
      "image/png": "[encoded data removed]",
      "text/plain": [
       "<Figure size 432x288 with 1 Axes>"
      ]
     },
     "metadata": {
      "needs_background": "light"
     },
     "output_type": "display_data"
    }
   ],
   "source": [
    "df2.long_title.value_counts().plot.hist(grid=False,\n",
    "                   color='#607c8e')"
   ]
  },
  {
   "cell_type": "markdown",
   "id": "31c8bbac-a0a5-4bde-bcaa-b55277dcb0c6",
   "metadata": {},
   "source": [
    "- ICD codes that should probably get removed \n",
    "\n",
    "Other specified vaccinations against streptococcus pneumoniae [pneumococcus]                                              1007\n",
    "Need for prophylactic vaccination and inoculation against streptococcus pneumoniae [pneumococcus] and influenza            338\n",
    "Cryptogenic organizing pneumonia                                                                                           125\n",
    "Congenital pneumonia                                                                                                        38\n",
    "Abscess of lung without pneumonia                                                                                           32\n",
    "\n",
    "- what about this one?\n",
    "Personal history of pneumonia (recurrent)                                                                                 1208\n",
    "\n",
    "- and should probably remove a bunch of these with <10 results\n",
    "\n",
    "Congenital pneumonia, unspecified                                                                                           10\n",
    "Congenital pneumonia due to staphylococcus                                                                                   7\n",
    "Idiopathic interstitial pneumonia, not otherwise specified                                                                   6\n",
    "Congenital pneumonia due to other bacterial agents                                                                           5\n",
    "Desquamative interstitial pneumonia                                                                                          4\n",
    "Congenital pneumonia due to Escherichia coli                                                                                 3\n",
    "Infection by Histoplasma capsulatum, pneumonia                                                                               2\n",
    "Tuberculous pneumonia [any form], tubercle bacilli found (in sputum) by microscopy                                           2\n",
    "Whooping cough, unspecified species without pneumonia                                                                        2\n",
    "Congenital pneumonia due to Pseudomonas                                                                                      1\n",
    "Congenital pneumonia due to viral agent                                                                                      1\n",
    "Hypostatic pneumonia, unspecified organism                                                                                   1\n",
    "Salmonella pneumonia                                                                                                         1\n",
    "Lymphoid interstitial pneumonia                                                                                              1\n",
    "Congenital pneumonia due to streptococcus, group B                                                                           1\n",
    "Tuberculous pneumonia [any form], tubercle bacilli not found (in sputum) by microscopy, but found by bacterial culture       1\n",
    "Tuberculous pneumonia [any form], unspecified                                                                                1\n",
    "Influenza due to identified 2009 H1N1 influenza virus with pneumonia                                                         1\n",
    "Idiopathic lymphoid interstitial pneumonia                                                                                   1\n",
    "Varicella pneumonia                                                                                                          1"
   ]
  },
  {
   "cell_type": "code",
   "execution_count": null,
   "id": "0e385e4b-4e56-472c-ae54-0409a6beab2f",
   "metadata": {},
   "outputs": [],
   "source": []
  },
  {
   "cell_type": "code",
   "execution_count": null,
   "id": "8360b5c3-13e3-4308-82e3-0737327e53cb",
   "metadata": {},
   "outputs": [],
   "source": []
  },
  {
   "cell_type": "code",
   "execution_count": 114,
   "id": "3537b745-cf67-48f4-9fcd-04a82094bcb7",
   "metadata": {},
   "outputs": [],
   "source": [
    "names_to_remove = [\n",
    "    'Other specified vaccinations against streptococcus pneumoniae [pneumococcus]',\n",
    "    'Need for prophylactic vaccination and inoculation against streptococcus pneumoniae [pneumococcus] and influenza',\n",
    "    'Cryptogenic organizing pneumonia',\n",
    "    'Congenital pneumonia',\n",
    "    'Abscess of lung without pneumonia'  \n",
    "]"
   ]
  },
  {
   "cell_type": "code",
   "execution_count": 115,
   "id": "24584325-14e0-41c4-aad0-9208f19a0974",
   "metadata": {},
   "outputs": [],
   "source": [
    "df3 = df2[~df2['long_title'].isin(names_to_remove)]"
   ]
  },
  {
   "cell_type": "code",
   "execution_count": 122,
   "id": "1252cba2-57a4-4608-82ef-984199be4507",
   "metadata": {
    "tags": []
   },
   "outputs": [
    {
     "data": {
      "text/html": [
       "<div>\n",
       "<style scoped>\n",
       "    .dataframe tbody tr th:only-of-type {\n",
       "        vertical-align: middle;\n",
       "    }\n",
       "\n",
       "    .dataframe tbody tr th {\n",
       "        vertical-align: top;\n",
       "    }\n",
       "\n",
       "    .dataframe thead th {\n",
       "        text-align: right;\n",
       "    }\n",
       "</style>\n",
       "<table border=\"1\" class=\"dataframe\">\n",
       "  <thead>\n",
       "    <tr style=\"text-align: right;\">\n",
       "      <th></th>\n",
       "      <th>subject_id</th>\n",
       "      <th>hadm_id</th>\n",
       "      <th>seq_num</th>\n",
       "      <th>icd_code</th>\n",
       "      <th>icd_version</th>\n",
       "      <th>icd_code</th>\n",
       "      <th>icd_version</th>\n",
       "      <th>long_title</th>\n",
       "    </tr>\n",
       "  </thead>\n",
       "  <tbody>\n",
       "    <tr>\n",
       "      <th>0</th>\n",
       "      <td>11383042</td>\n",
       "      <td>24135826</td>\n",
       "      <td>11</td>\n",
       "      <td>4820</td>\n",
       "      <td>9</td>\n",
       "      <td>4820</td>\n",
       "      <td>9</td>\n",
       "      <td>Pneumonia due to Klebsiella pneumoniae</td>\n",
       "    </tr>\n",
       "    <tr>\n",
       "      <th>1</th>\n",
       "      <td>16327683</td>\n",
       "      <td>24544838</td>\n",
       "      <td>3</td>\n",
       "      <td>48241</td>\n",
       "      <td>9</td>\n",
       "      <td>48241</td>\n",
       "      <td>9</td>\n",
       "      <td>Methicillin susceptible pneumonia due to Staph...</td>\n",
       "    </tr>\n",
       "    <tr>\n",
       "      <th>2</th>\n",
       "      <td>16087867</td>\n",
       "      <td>22710718</td>\n",
       "      <td>10</td>\n",
       "      <td>48241</td>\n",
       "      <td>9</td>\n",
       "      <td>48241</td>\n",
       "      <td>9</td>\n",
       "      <td>Methicillin susceptible pneumonia due to Staph...</td>\n",
       "    </tr>\n",
       "    <tr>\n",
       "      <th>3</th>\n",
       "      <td>16625434</td>\n",
       "      <td>25780525</td>\n",
       "      <td>14</td>\n",
       "      <td>4820</td>\n",
       "      <td>9</td>\n",
       "      <td>4820</td>\n",
       "      <td>9</td>\n",
       "      <td>Pneumonia due to Klebsiella pneumoniae</td>\n",
       "    </tr>\n",
       "    <tr>\n",
       "      <th>4</th>\n",
       "      <td>16209708</td>\n",
       "      <td>28071945</td>\n",
       "      <td>2</td>\n",
       "      <td>481</td>\n",
       "      <td>9</td>\n",
       "      <td>481</td>\n",
       "      <td>9</td>\n",
       "      <td>Pneumococcal pneumonia [Streptococcus pneumoni...</td>\n",
       "    </tr>\n",
       "  </tbody>\n",
       "</table>\n",
       "</div>"
      ],
      "text/plain": [
       "   subject_id   hadm_id  seq_num icd_code  icd_version icd_code  icd_version  \\\n",
       "0    11383042  24135826       11     4820            9     4820            9   \n",
       "1    16327683  24544838        3    48241            9    48241            9   \n",
       "2    16087867  22710718       10    48241            9    48241            9   \n",
       "3    16625434  25780525       14     4820            9     4820            9   \n",
       "4    16209708  28071945        2      481            9      481            9   \n",
       "\n",
       "                                          long_title  \n",
       "0             Pneumonia due to Klebsiella pneumoniae  \n",
       "1  Methicillin susceptible pneumonia due to Staph...  \n",
       "2  Methicillin susceptible pneumonia due to Staph...  \n",
       "3             Pneumonia due to Klebsiella pneumoniae  \n",
       "4  Pneumococcal pneumonia [Streptococcus pneumoni...  "
      ]
     },
     "execution_count": 122,
     "metadata": {},
     "output_type": "execute_result"
    }
   ],
   "source": [
    "df3.head()"
   ]
  },
  {
   "cell_type": "code",
   "execution_count": 126,
   "id": "87fd431e-7436-446a-b8c7-11d801662c46",
   "metadata": {},
   "outputs": [],
   "source": [
    "pd.set_option(\"display.max_rows\", 10)"
   ]
  },
  {
   "cell_type": "code",
   "execution_count": 127,
   "id": "dcb117f5-918f-4dbe-a8ba-734815d271a8",
   "metadata": {},
   "outputs": [
    {
     "data": {
      "text/plain": [
       "Ventilator associated pneumonia                                                        1723\n",
       "Klebsiella pneumoniae [K. pneumoniae] as the cause of diseases classified elsewhere    1425\n",
       "Personal history of pneumonia (recurrent)                                              1208\n",
       "Bacterial pneumonia, unspecified                                                       1093\n",
       "Unspecified bacterial pneumonia                                                         716\n",
       "                                                                                       ... \n",
       "Salmonella pneumonia                                                                      1\n",
       "Idiopathic lymphoid interstitial pneumonia                                                1\n",
       "Influenza due to identified 2009 H1N1 influenza virus with pneumonia                      1\n",
       "Tuberculous pneumonia [any form], unspecified                                             1\n",
       "Varicella pneumonia                                                                       1\n",
       "Name: long_title, Length: 57, dtype: int64"
      ]
     },
     "execution_count": 127,
     "metadata": {},
     "output_type": "execute_result"
    }
   ],
   "source": [
    "df3.long_title.value_counts()"
   ]
  },
  {
   "cell_type": "code",
   "execution_count": 129,
   "id": "fdf695e8-417b-4b9a-b547-66c863e197a2",
   "metadata": {},
   "outputs": [],
   "source": [
    "additional_to_remove = [\n",
    "    'Congenital pneumonia, unspecified',\n",
    "    'Congenital pneumonia due to staphylococcus',\n",
    "    'Idiopathic interstitial pneumonia, not otherwise specified',\n",
    "    'Congenital pneumonia due to other bacterial agents',\n",
    "    'Desquamative interstitial pneumonia',\n",
    "    'Congenital pneumonia due to Escherichia coli',\n",
    "    'Infection by Histoplasma capsulatum, pneumonia',\n",
    "    'Tuberculous pneumonia [any form], tubercle bacilli found (in sputum) by microscopy',\n",
    "    'Whooping cough, unspecified species without pneumonia',\n",
    "    'Congenital pneumonia due to Pseudomonas',\n",
    "    'Congenital pneumonia due to viral agent',\n",
    "    'Hypostatic pneumonia, unspecified organism',\n",
    "    'Lymphoid interstitial pneumonia',\n",
    "    'Congenital pneumonia due to streptococcus, group B',\n",
    "    'Tuberculous pneumonia [any form], tubercle bacilli not found (in sputum) by microscopy, but found by bacterial culture',\n",
    "    'Tuberculous pneumonia [any form], unspecified',  \n",
    "    'Idiopathic lymphoid interstitial pneumonia'\n",
    "]\n"
   ]
  },
  {
   "cell_type": "code",
   "execution_count": 132,
   "id": "6bfe6d02-cf40-4488-b925-adb1b527bfd5",
   "metadata": {},
   "outputs": [],
   "source": [
    "df3 = df3[~df3['long_title'].isin(additional_to_remove)]"
   ]
  },
  {
   "cell_type": "code",
   "execution_count": 133,
   "id": "10fc3036-1d4c-4ab3-8c3c-d40ea310f151",
   "metadata": {},
   "outputs": [
    {
     "data": {
      "text/plain": [
       "Ventilator associated pneumonia                                                        1723\n",
       "Klebsiella pneumoniae [K. pneumoniae] as the cause of diseases classified elsewhere    1425\n",
       "Personal history of pneumonia (recurrent)                                              1208\n",
       "Bacterial pneumonia, unspecified                                                       1093\n",
       "Unspecified bacterial pneumonia                                                         716\n",
       "                                                                                       ... \n",
       "Human metapneumovirus pneumonia                                                           3\n",
       "Adenoviral pneumonia                                                                      3\n",
       "Salmonella pneumonia                                                                      1\n",
       "Influenza due to identified 2009 H1N1 influenza virus with pneumonia                      1\n",
       "Varicella pneumonia                                                                       1\n",
       "Name: long_title, Length: 40, dtype: int64"
      ]
     },
     "execution_count": 133,
     "metadata": {},
     "output_type": "execute_result"
    }
   ],
   "source": [
    "df3.long_title.value_counts()"
   ]
  },
  {
   "cell_type": "code",
   "execution_count": 135,
   "id": "b78e67a6-360a-4051-9d8c-d095a940d4a4",
   "metadata": {},
   "outputs": [
    {
     "data": {
      "text/plain": [
       "8459"
      ]
     },
     "execution_count": 135,
     "metadata": {},
     "output_type": "execute_result"
    }
   ],
   "source": [
    "len(df3.hadm_id.unique())"
   ]
  },
  {
   "cell_type": "code",
   "execution_count": null,
   "id": "e6427431-6564-4d2b-a97b-b3c486606452",
   "metadata": {},
   "outputs": [],
   "source": []
  },
  {
   "cell_type": "code",
   "execution_count": 134,
   "id": "1231fcf6-9a68-4fa7-a054-fb11b3e284e3",
   "metadata": {},
   "outputs": [],
   "source": [
    "df3.to_csv(\"pneumonia_cases_clean2-12-22.csv\")"
   ]
  },
  {
   "cell_type": "code",
   "execution_count": null,
   "id": "b73e9f21-759e-4f9a-baf3-f007c5464ee7",
   "metadata": {},
   "outputs": [],
   "source": []
  },
  {
   "cell_type": "code",
   "execution_count": null,
   "id": "2c071a10-38c9-41e7-97b0-a8cb38852fb1",
   "metadata": {},
   "outputs": [],
   "source": []
  },
  {
   "cell_type": "code",
   "execution_count": null,
   "id": "926fbc0e-02ce-45e1-bba4-71bf8d0a254d",
   "metadata": {},
   "outputs": [],
   "source": []
  },
  {
   "cell_type": "code",
   "execution_count": null,
   "id": "e6017d82-9207-4ca7-828f-8f49e8ba918d",
   "metadata": {},
   "outputs": [],
   "source": []
  },
  {
   "cell_type": "code",
   "execution_count": null,
   "id": "d32c8304-b27a-429a-9cc6-4232e3ad2629",
   "metadata": {},
   "outputs": [],
   "source": []
  },
  {
   "cell_type": "code",
   "execution_count": null,
   "id": "9cf5b23a-deca-49fb-bd8c-21a7dc20ae50",
   "metadata": {},
   "outputs": [],
   "source": []
  }
 ],
 "metadata": {
  "kernelspec": {
   "display_name": "Python 3 (ipykernel)",
   "language": "python",
   "name": "python3"
  },
  "language_info": {
   "codemirror_mode": {
    "name": "ipython",
    "version": 3
   },
   "file_extension": ".py",
   "mimetype": "text/x-python",
   "name": "python",
   "nbconvert_exporter": "python",
   "pygments_lexer": "ipython3",
   "version": "3.9.7"
  }
 },
 "nbformat": 4,
 "nbformat_minor": 5
}
